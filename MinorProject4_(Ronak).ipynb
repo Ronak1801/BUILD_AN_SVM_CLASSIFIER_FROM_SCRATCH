{
  "nbformat": 4,
  "nbformat_minor": 0,
  "metadata": {
    "colab": {
      "name": "MinorProject4 (Ronak).ipynb",
      "provenance": [],
      "collapsed_sections": [],
      "include_colab_link": true
    },
    "kernelspec": {
      "display_name": "Python 3",
      "name": "python3"
    },
    "language_info": {
      "name": "python"
    }
  },
  "cells": [
    {
      "cell_type": "markdown",
      "metadata": {
        "id": "view-in-github",
        "colab_type": "text"
      },
      "source": [
        "<a href=\"https://colab.research.google.com/github/Ronak1801/BUILD_AN_SVM_CLASSIFIER_FROM_SCRATCH/blob/main/MinorProject4_(Ronak).ipynb\" target=\"_parent\"><img src=\"https://colab.research.google.com/assets/colab-badge.svg\" alt=\"Open In Colab\"/></a>"
      ]
    },
    {
      "cell_type": "code",
      "metadata": {
        "id": "nYjiO1J79YN1",
        "colab": {
          "base_uri": "https://localhost:8080/",
          "height": 281
        },
        "outputId": "3fbea34f-75fe-4e7b-a942-0c82a0a93d6d"
      },
      "source": [
        "import numpy as np\n",
        "class SVM:\n",
        "    def __init__(self, learning_rate=0.001, lambda_param=0.01, n_iters=1000):\n",
        "        self.lr = learning_rate\n",
        "        self.lambda_param = lambda_param\n",
        "        self.n_iters = n_iters\n",
        "        self.w = None\n",
        "        self.b = None\n",
        "\n",
        "    def fit(self, X, y):\n",
        "        n_samples, n_features = X.shape\n",
        "\n",
        "        y_ = np.where(y <= 0, -1, 1)\n",
        "\n",
        "        self.w = np.zeros(n_features)\n",
        "        self.b = 0\n",
        "\n",
        "        for _ in range(self.n_iters):\n",
        "            for idx, x_i in enumerate(X):\n",
        "                condition = y_[idx] * (np.dot(x_i, self.w) - self.b) >= 1\n",
        "                if condition:\n",
        "                    self.w -= self.lr * (2 * self.lambda_param * self.w)\n",
        "                else:\n",
        "                    self.w -= self.lr * (\n",
        "                        2 * self.lambda_param * self.w - np.dot(x_i, y_[idx])\n",
        "                    )\n",
        "                    self.b -= self.lr * y_[idx]\n",
        "\n",
        "    def predict(self, X):\n",
        "        approx = np.dot(X, self.w) - self.b\n",
        "        return np.sign(approx)\n",
        "\n",
        "\n",
        "# Testing\n",
        "if __name__ == \"__main__\":\n",
        "    # Imports\n",
        "    from sklearn import datasets\n",
        "    import matplotlib.pyplot as plt\n",
        "\n",
        "    X, y = datasets.make_blobs(\n",
        "        n_samples=50, n_features=2, centers=2, cluster_std=1.05, random_state=40)\n",
        "    y = np.where(y == 0, -1, 1)\n",
        "\n",
        "    clf = SVM()\n",
        "    clf.fit(X, y)\n",
        "    # predictions = clf.predict(X)\n",
        "\n",
        "    print(clf.w, clf.b)\n",
        "\n",
        "    def visualize_svm():\n",
        "        def get_hyperplane_value(x, w, b, offset):\n",
        "            return (-w[0] * x + b + offset) / w[1]\n",
        "\n",
        "        fig = plt.figure()\n",
        "        ax = fig.add_subplot(1, 1, 1)\n",
        "        plt.scatter(X[:, 0], X[:, 1], marker=\"+\", c=y)\n",
        "\n",
        "        x0_1 = np.amin(X[:, 0])\n",
        "        x0_2 = np.amax(X[:, 0])\n",
        "\n",
        "        x1_1 = get_hyperplane_value(x0_1, clf.w, clf.b, 0)\n",
        "        x1_2 = get_hyperplane_value(x0_2, clf.w, clf.b, 0)\n",
        "\n",
        "        x1_1_m = get_hyperplane_value(x0_1, clf.w, clf.b, -1)\n",
        "        x1_2_m = get_hyperplane_value(x0_2, clf.w, clf.b, -1)\n",
        "\n",
        "        x1_1_p = get_hyperplane_value(x0_1, clf.w, clf.b, 1)\n",
        "        x1_2_p = get_hyperplane_value(x0_2, clf.w, clf.b, 1)\n",
        "\n",
        "        ax.plot([x0_1, x0_2], [x1_1, x1_2], \"g--\")\n",
        "        ax.plot([x0_1, x0_2], [x1_1_m, x1_2_m], \"b\")\n",
        "        ax.plot([x0_1, x0_2], [x1_1_p, x1_2_p], \"b\")\n",
        "\n",
        "        x1_min = np.amin(X[:, 1])\n",
        "        x1_max = np.amax(X[:, 1])\n",
        "        ax.set_ylim([x1_min - 3, x1_max + 3])\n",
        "\n",
        "        plt.show()\n",
        "\n",
        "    visualize_svm()"
      ],
      "execution_count": null,
      "outputs": [
        {
          "output_type": "stream",
          "text": [
            "[0.58977016 0.17946483] -0.1520000000000001\n"
          ],
          "name": "stdout"
        },
        {
          "output_type": "display_data",
          "data": {
            "image/png": "[encoded data removed]",
            "text/plain": [
              "<Figure size 432x288 with 1 Axes>"
            ]
          },
          "metadata": {
            "needs_background": "light"
          }
        }
      ]
    },
    {
      "cell_type": "code",
      "metadata": {
        "id": "Wbcdf4IwY66Y"
      },
      "source": [
        ""
      ],
      "execution_count": null,
      "outputs": []
    }
  ]
}